{
 "cells": [
  {
   "cell_type": "code",
   "execution_count": 33,
   "id": "initial_id",
   "metadata": {
    "collapsed": true,
    "ExecuteTime": {
     "end_time": "2024-05-20T22:20:49.826572Z",
     "start_time": "2024-05-20T22:20:49.818524Z"
    }
   },
   "outputs": [],
   "source": [
    "import pandas as pd\n",
    "from sklearn.feature_extraction import DictVectorizer\n",
    "from sklearn.linear_model import LinearRegression\n",
    "from sklearn.linear_model import Lasso\n",
    "from sklearn.linear_model import Ridge\n",
    "\n",
    "from sklearn.metrics import mean_squared_error\n",
    "import warnings\n",
    "\n",
    "warnings.filterwarnings('ignore')"
   ]
  },
  {
   "cell_type": "code",
   "execution_count": 34,
   "outputs": [],
   "source": [
    "jan_data_path = \"../../../data/yellow_tripdata_2023-01.parquet\"\n",
    "feb_data_path = \"../../../data/yellow_tripdata_2023-02.parquet\""
   ],
   "metadata": {
    "collapsed": false,
    "ExecuteTime": {
     "end_time": "2024-05-20T22:20:49.983475Z",
     "start_time": "2024-05-20T22:20:49.978518Z"
    }
   },
   "id": "2019f325ef9671f6"
  },
  {
   "cell_type": "code",
   "execution_count": 35,
   "outputs": [],
   "source": [
    "df = pd.read_parquet(jan_data_path)\n",
    "# feb_df = pd.read_parquet(feb_data_path)"
   ],
   "metadata": {
    "collapsed": false,
    "ExecuteTime": {
     "end_time": "2024-05-20T22:20:51.294656Z",
     "start_time": "2024-05-20T22:20:50.142037Z"
    }
   },
   "id": "8f20086c67f32d5"
  },
  {
   "cell_type": "code",
   "execution_count": 36,
   "outputs": [
    {
     "name": "stdout",
     "output_type": "stream",
     "text": [
      "(19,)\n"
     ]
    }
   ],
   "source": [
    "print(df.columns.shape) # Answer for Q1 = 19"
   ],
   "metadata": {
    "collapsed": false,
    "ExecuteTime": {
     "end_time": "2024-05-20T22:20:51.300759Z",
     "start_time": "2024-05-20T22:20:51.294833Z"
    }
   },
   "id": "c1c614dea85fae6"
  },
  {
   "cell_type": "code",
   "execution_count": 37,
   "outputs": [
    {
     "data": {
      "text/plain": "Index(['VendorID', 'tpep_pickup_datetime', 'tpep_dropoff_datetime',\n       'passenger_count', 'trip_distance', 'RatecodeID', 'store_and_fwd_flag',\n       'PULocationID', 'DOLocationID', 'payment_type', 'fare_amount', 'extra',\n       'mta_tax', 'tip_amount', 'tolls_amount', 'improvement_surcharge',\n       'total_amount', 'congestion_surcharge', 'airport_fee'],\n      dtype='object')"
     },
     "execution_count": 37,
     "metadata": {},
     "output_type": "execute_result"
    }
   ],
   "source": [
    "df.columns"
   ],
   "metadata": {
    "collapsed": false,
    "ExecuteTime": {
     "end_time": "2024-05-20T22:20:51.900166Z",
     "start_time": "2024-05-20T22:20:51.892555Z"
    }
   },
   "id": "10eb7c4a011090a"
  },
  {
   "cell_type": "code",
   "execution_count": 38,
   "outputs": [
    {
     "data": {
      "text/plain": "VendorID                                   2\ntpep_pickup_datetime     2023-01-01 00:51:44\ntpep_dropoff_datetime    2023-01-01 00:54:54\npassenger_count                          1.0\ntrip_distance                           0.52\nRatecodeID                               1.0\nstore_and_fwd_flag                         N\nPULocationID                             143\nDOLocationID                             239\npayment_type                               1\nfare_amount                              5.1\nextra                                    1.0\nmta_tax                                  0.5\ntip_amount                              3.03\ntolls_amount                             0.0\nimprovement_surcharge                    1.0\ntotal_amount                           13.13\ncongestion_surcharge                     2.5\nairport_fee                              0.0\nName: 1000, dtype: object"
     },
     "execution_count": 38,
     "metadata": {},
     "output_type": "execute_result"
    }
   ],
   "source": [
    "df.iloc[1000]"
   ],
   "metadata": {
    "collapsed": false,
    "ExecuteTime": {
     "end_time": "2024-05-20T22:20:52.473010Z",
     "start_time": "2024-05-20T22:20:52.462816Z"
    }
   },
   "id": "cee9b2d0b3856d61"
  },
  {
   "cell_type": "code",
   "execution_count": 39,
   "outputs": [
    {
     "name": "stdout",
     "output_type": "stream",
     "text": [
      "42.59435124195458\n"
     ]
    }
   ],
   "source": [
    "df['duration'] = df.tpep_dropoff_datetime - df.tpep_pickup_datetime\n",
    "df.duration = df.duration.apply(lambda td: td.total_seconds() / 60)\n",
    "print(df.duration.std())\n",
    "old_len = df.shape[0]"
   ],
   "metadata": {
    "collapsed": false,
    "ExecuteTime": {
     "end_time": "2024-05-20T22:20:58.219246Z",
     "start_time": "2024-05-20T22:20:52.957689Z"
    }
   },
   "id": "7bc9668d4edc6170"
  },
  {
   "cell_type": "code",
   "execution_count": 40,
   "outputs": [
    {
     "name": "stdout",
     "output_type": "stream",
     "text": [
      "0.9812202822125979\n"
     ]
    }
   ],
   "source": [
    "df = df[(df.duration >= 1) & (df.duration <= 60)]\n",
    "new_len = df.shape[0]\n",
    "ratio = new_len / old_len\n",
    "print(ratio)"
   ],
   "metadata": {
    "collapsed": false,
    "ExecuteTime": {
     "end_time": "2024-05-20T22:20:58.502258Z",
     "start_time": "2024-05-20T22:20:58.216914Z"
    }
   },
   "id": "5ae0fc96de0b4ff5"
  },
  {
   "cell_type": "code",
   "execution_count": 41,
   "outputs": [],
   "source": [
    "categorical = ['PULocationID', 'DOLocationID']\n",
    "\n",
    "df[categorical] = df[categorical].astype(str)"
   ],
   "metadata": {
    "collapsed": false,
    "ExecuteTime": {
     "end_time": "2024-05-20T22:21:53.773054Z",
     "start_time": "2024-05-20T22:21:52.922002Z"
    }
   },
   "id": "c27955d6a54034bc"
  },
  {
   "cell_type": "code",
   "execution_count": 42,
   "outputs": [
    {
     "data": {
      "text/plain": "7.649261927686161"
     },
     "execution_count": 42,
     "metadata": {},
     "output_type": "execute_result"
    }
   ],
   "source": [
    "train_dicts = df[categorical].to_dict(orient='records')\n",
    "\n",
    "dv = DictVectorizer()\n",
    "X_train = dv.fit_transform(train_dicts)\n",
    "\n",
    "target = 'duration'\n",
    "y_train = df[target].values\n",
    "\n",
    "lr = LinearRegression()\n",
    "lr.fit(X_train, y_train)\n",
    "\n",
    "y_pred = lr.predict(X_train)\n",
    "\n",
    "mean_squared_error(y_train, y_pred, squared=False)"
   ],
   "metadata": {
    "collapsed": false,
    "ExecuteTime": {
     "end_time": "2024-05-20T22:22:14.146598Z",
     "start_time": "2024-05-20T22:21:53.775707Z"
    }
   },
   "id": "b1090ff35a563573"
  },
  {
   "cell_type": "code",
   "execution_count": 43,
   "outputs": [],
   "source": [
    "def read_dataframe(filename):\n",
    "\n",
    "    df = pd.read_parquet(filename)\n",
    "\n",
    "    df['duration'] = df.tpep_dropoff_datetime - df.tpep_pickup_datetime\n",
    "    df.duration = df.duration.apply(lambda td: td.total_seconds() / 60)\n",
    "\n",
    "    df = df[(df.duration >= 1) & (df.duration <= 60)]\n",
    "\n",
    "    categorical = ['PULocationID', 'DOLocationID']\n",
    "    df[categorical] = df[categorical].astype(str)\n",
    "    \n",
    "    return df"
   ],
   "metadata": {
    "collapsed": false,
    "ExecuteTime": {
     "end_time": "2024-05-20T22:22:19.758345Z",
     "start_time": "2024-05-20T22:22:19.755376Z"
    }
   },
   "id": "e45defc0f02bd7ba"
  },
  {
   "cell_type": "code",
   "execution_count": 44,
   "outputs": [],
   "source": [
    "df_train = read_dataframe(jan_data_path)\n",
    "df_val = read_dataframe(feb_data_path)"
   ],
   "metadata": {
    "collapsed": false,
    "ExecuteTime": {
     "end_time": "2024-05-20T22:22:39.339299Z",
     "start_time": "2024-05-20T22:22:20.240197Z"
    }
   },
   "id": "d7a8ea625c37fe7b"
  },
  {
   "cell_type": "code",
   "execution_count": 45,
   "outputs": [
    {
     "data": {
      "text/plain": "(3009173, 2855951)"
     },
     "execution_count": 45,
     "metadata": {},
     "output_type": "execute_result"
    }
   ],
   "source": [
    "len(df_train), len(df_val)"
   ],
   "metadata": {
    "collapsed": false,
    "ExecuteTime": {
     "end_time": "2024-05-20T22:22:39.340525Z",
     "start_time": "2024-05-20T22:22:39.338404Z"
    }
   },
   "id": "830460aa05537190"
  },
  {
   "cell_type": "code",
   "execution_count": 46,
   "outputs": [],
   "source": [
    "df_train['PU_DO'] = df_train['PULocationID'] + '_' + df_train['DOLocationID']\n",
    "df_val['PU_DO'] = df_val['PULocationID'] + '_' + df_val['DOLocationID']"
   ],
   "metadata": {
    "collapsed": false,
    "ExecuteTime": {
     "end_time": "2024-05-20T22:22:40.069755Z",
     "start_time": "2024-05-20T22:22:39.340958Z"
    }
   },
   "id": "14c5829b963f691"
  },
  {
   "cell_type": "code",
   "execution_count": 47,
   "outputs": [],
   "source": [
    "categorical = ['PU_DO']\n",
    "\n",
    "dv = DictVectorizer()\n",
    "\n",
    "train_dicts = df_train[categorical].to_dict(orient='records')\n",
    "X_train = dv.fit_transform(train_dicts)\n",
    "\n",
    "val_dicts = df_val[categorical].to_dict(orient='records')\n",
    "X_val = dv.transform(val_dicts)"
   ],
   "metadata": {
    "collapsed": false,
    "ExecuteTime": {
     "end_time": "2024-05-20T22:22:49.542628Z",
     "start_time": "2024-05-20T22:22:40.071876Z"
    }
   },
   "id": "2df7eae980d943d6"
  },
  {
   "cell_type": "code",
   "execution_count": 48,
   "outputs": [],
   "source": [
    "target = 'duration'\n",
    "y_train = df_train[target].values\n",
    "y_val = df_val[target].values"
   ],
   "metadata": {
    "collapsed": false,
    "ExecuteTime": {
     "end_time": "2024-05-20T22:22:49.547373Z",
     "start_time": "2024-05-20T22:22:49.542440Z"
    }
   },
   "id": "cec04a21d301a42c"
  },
  {
   "cell_type": "code",
   "execution_count": 49,
   "outputs": [
    {
     "data": {
      "text/plain": "16.33487387327494"
     },
     "execution_count": 49,
     "metadata": {},
     "output_type": "execute_result"
    }
   ],
   "source": [
    "lr = LinearRegression()\n",
    "lr.fit(X_train, y_train)\n",
    "\n",
    "y_pred = lr.predict(X_val)\n",
    "\n",
    "mean_squared_error(y_val, y_pred, squared=False)"
   ],
   "metadata": {
    "collapsed": false,
    "ExecuteTime": {
     "end_time": "2024-05-20T22:22:57.613566Z",
     "start_time": "2024-05-20T22:22:49.547661Z"
    }
   },
   "id": "68e75f427d754904"
  }
 ],
 "metadata": {
  "kernelspec": {
   "display_name": "Python 3",
   "language": "python",
   "name": "python3"
  },
  "language_info": {
   "codemirror_mode": {
    "name": "ipython",
    "version": 2
   },
   "file_extension": ".py",
   "mimetype": "text/x-python",
   "name": "python",
   "nbconvert_exporter": "python",
   "pygments_lexer": "ipython2",
   "version": "2.7.6"
  }
 },
 "nbformat": 4,
 "nbformat_minor": 5
}
